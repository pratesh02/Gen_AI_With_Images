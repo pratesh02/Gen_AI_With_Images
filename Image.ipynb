{
 "cells": [
  {
   "cell_type": "code",
   "execution_count": 1,
   "id": "7cf9b8b9",
   "metadata": {},
   "outputs": [],
   "source": [
    "import cv2"
   ]
  },
  {
   "cell_type": "code",
   "execution_count": 2,
   "id": "8ef78513",
   "metadata": {},
   "outputs": [],
   "source": [
    "myimg = cv2.imread(r'C:\\Users\\pshett4\\OneDrive - MORNINGSTAR INC\\FSDS\\Gen AI with Image\\MyImage.jpg')"
   ]
  },
  {
   "cell_type": "code",
   "execution_count": 3,
   "id": "aeda8495",
   "metadata": {},
   "outputs": [],
   "source": [
    "myimg1 = cv2.imread(r'C:\\Users\\pshett4\\OneDrive - MORNINGSTAR INC\\FSDS\\Gen AI with Image\\MyImage1.jpg')"
   ]
  },
  {
   "cell_type": "code",
   "execution_count": 4,
   "id": "fdc4b6aa",
   "metadata": {},
   "outputs": [
    {
     "data": {
      "text/plain": [
       "NoneType"
      ]
     },
     "execution_count": 4,
     "metadata": {},
     "output_type": "execute_result"
    }
   ],
   "source": [
    "type(myimg1)"
   ]
  },
  {
   "cell_type": "code",
   "execution_count": 5,
   "id": "730861b1",
   "metadata": {},
   "outputs": [
    {
     "data": {
      "text/plain": [
       "-1"
      ]
     },
     "execution_count": 5,
     "metadata": {},
     "output_type": "execute_result"
    }
   ],
   "source": [
    "import cv2\n",
    "myimg = cv2.imread(r'C:\\Users\\pshett4\\OneDrive - MORNINGSTAR INC\\FSDS\\Gen AI with Image\\MyImage.jpg')\n",
    "cv2.imshow('Pratesh Shetty',myimg)\n",
    "cv2.waitKey()"
   ]
  },
  {
   "cell_type": "code",
   "execution_count": 6,
   "id": "0e9e78d8",
   "metadata": {},
   "outputs": [],
   "source": [
    "import cv2\n",
    "myimg = cv2.imread(r'C:\\Users\\pshett4\\OneDrive - MORNINGSTAR INC\\FSDS\\Gen AI with Image\\MyImage.jpg')\n",
    "while True:\n",
    "    cv2.imshow('Pratesh Shetty',myimg)\n",
    "    \n",
    "    if cv2.waitKey(1) & 0xff ==27:\n",
    "        break\n",
    "cv2.destroyAllWindows()"
   ]
  },
  {
   "cell_type": "code",
   "execution_count": null,
   "id": "262fb2a1",
   "metadata": {},
   "outputs": [],
   "source": []
  },
  {
   "cell_type": "code",
   "execution_count": null,
   "id": "003fdb83",
   "metadata": {},
   "outputs": [],
   "source": []
  }
 ],
 "metadata": {
  "kernelspec": {
   "display_name": "Python 3 (ipykernel)",
   "language": "python",
   "name": "python3"
  },
  "language_info": {
   "codemirror_mode": {
    "name": "ipython",
    "version": 3
   },
   "file_extension": ".py",
   "mimetype": "text/x-python",
   "name": "python",
   "nbconvert_exporter": "python",
   "pygments_lexer": "ipython3",
   "version": "3.9.12"
  }
 },
 "nbformat": 4,
 "nbformat_minor": 5
}
